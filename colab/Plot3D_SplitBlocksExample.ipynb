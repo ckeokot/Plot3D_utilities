{
  "nbformat": 4,
  "nbformat_minor": 0,
  "metadata": {
    "colab": {
      "name": "Plot3D_SplitBlocksExample.ipynb",
      "provenance": [],
      "collapsed_sections": [],
      "toc_visible": true
    },
    "kernelspec": {
      "name": "python3",
      "display_name": "Python 3"
    },
    "language_info": {
      "name": "python"
    }
  },
  "cells": [
    {
      "cell_type": "code",
      "metadata": {
        "id": "51uUpysBabks"
      },
      "source": [
        ""
      ],
      "execution_count": null,
      "outputs": []
    },
    {
      "cell_type": "markdown",
      "metadata": {
        "id": "54AvU5poWzlV"
      },
      "source": [
        "# Plot3D Python Tutorial\n",
        "In this tutorial you will learn about the Plot3D NASA Standard and how to use NASA's Plot3D python library to read, write, find connectivity, split blocks, and find periodicity.\n",
        "\n",
        "## About Plot3D\n",
        "Plot3D is a standard for defining a simple structured grid. This standard was developed in the 1980's [User Manual](https://www.google.com/url?sa=t&rct=j&q=&esrc=s&source=web&cd=&cad=rja&uact=8&ved=2ahUKEwiLm_2Q8JjzAhUCB50JHTfFCM4QFnoECAMQAQ&url=https%3A%2F%2Fwww.grc.nasa.gov%2Fwww%2Fwinddocs%2Ftowne%2Fplotc%2Fplotc_p3d.html&usg=AOvVaw0iKPGjnhjiQA9AFZcFhkEE) \n",
        "\n",
        "To understand the plot3D standard, we must first start with the definition of an array. The figure below shows a box with 6 faces and 8 verticies represented by black dots. Now if you were to discretize a geometry into many of these boxes all connected to each other. You would have many x,y,z points. To organize things we arrange all this points into an array of x's, y'z, z's and we label them as capital X, Y, Z. \n",
        "\n",
        "![Array](https://raw.githubusercontent.com/nasa/Plot3D_utilities/main/colab/images/array_definition.png)\n",
        "\n",
        "So what does this mean? how is this helpful. It depends on how to arrange the array. If you have a single dimensional array of x like x<sub>1</sub>,x<sub>2</sub>,x<sub>3</sub>, ..., x<sub>n</sub>. This isn't particularly useful because it's hard to split it in to faces - just try it with the simple box above. So what we do instead is represent x as a 3-dimensional array instead of a single dimension. For example x[0,0,0] or x<sub>0,0,0</sub> = some value. \n",
        "The image below shows how we arrange the x values of each of the vertices. \n",
        "\n",
        "\n",
        "![Array](https://raw.githubusercontent.com/nasa/Plot3D_utilities/main/colab/images/array_definition2.png)\n",
        "\n",
        "With this new arrangement of x into a 3-dimensional array, x[i,j,k]. We can easily extract a face. For example the front face is defined by x[0,0,0] x[1,0,0], x[0,1,0], x[1,1,0]. Do you notice anything interesting from this array? The third index \"k\" is 0. **To define a face you simply set either i, j, or k to be a constant value.** For outer faces you would use KMIN or KMAX. Depending on the programming language the indicies may start at 1 or 0. In python we start at 0 and end at n-1. [More info on Python Arrays](https://www.w3schools.com/python/python_arrays.asp)\n",
        "\n",
        "\n",
        "\n"
      ]
    },
    {
      "cell_type": "markdown",
      "metadata": {
        "id": "6FifJWibmCWW"
      },
      "source": [
        "# Environment Setup\n",
        "This step is relatively short. Run the code below to install plot3d "
      ]
    },
    {
      "cell_type": "code",
      "metadata": {
        "colab": {
          "base_uri": "https://localhost:8080/",
          "height": 530
        },
        "id": "nIp8GfFAlqeu",
        "outputId": "dd154061-2421-40ac-8e69-3186ef694637"
      },
      "source": [
        "!pip install plot3d"
      ],
      "execution_count": 2,
      "outputs": [
        {
          "output_type": "stream",
          "name": "stdout",
          "text": [
            "Collecting plot3d\n",
            "  Downloading plot3d-1.3.8-py3-none-any.whl (25 kB)\n",
            "Requirement already satisfied: psutil in /usr/local/lib/python3.7/dist-packages (from plot3d) (5.4.8)\n",
            "Requirement already satisfied: tqdm in /usr/local/lib/python3.7/dist-packages (from plot3d) (4.62.2)\n",
            "Collecting matplotlib<4.0.0,>=3.3.1\n",
            "  Downloading matplotlib-3.4.3-cp37-cp37m-manylinux1_x86_64.whl (10.3 MB)\n",
            "\u001b[K     |████████████████████████████████| 10.3 MB 887 kB/s \n",
            "\u001b[?25hRequirement already satisfied: pandas in /usr/local/lib/python3.7/dist-packages (from plot3d) (1.1.5)\n",
            "Requirement already satisfied: numpy in /usr/local/lib/python3.7/dist-packages (from plot3d) (1.19.5)\n",
            "Requirement already satisfied: pillow>=6.2.0 in /usr/local/lib/python3.7/dist-packages (from matplotlib<4.0.0,>=3.3.1->plot3d) (7.1.2)\n",
            "Requirement already satisfied: kiwisolver>=1.0.1 in /usr/local/lib/python3.7/dist-packages (from matplotlib<4.0.0,>=3.3.1->plot3d) (1.3.2)\n",
            "Requirement already satisfied: python-dateutil>=2.7 in /usr/local/lib/python3.7/dist-packages (from matplotlib<4.0.0,>=3.3.1->plot3d) (2.8.2)\n",
            "Requirement already satisfied: pyparsing>=2.2.1 in /usr/local/lib/python3.7/dist-packages (from matplotlib<4.0.0,>=3.3.1->plot3d) (2.4.7)\n",
            "Requirement already satisfied: cycler>=0.10 in /usr/local/lib/python3.7/dist-packages (from matplotlib<4.0.0,>=3.3.1->plot3d) (0.10.0)\n",
            "Requirement already satisfied: six in /usr/local/lib/python3.7/dist-packages (from cycler>=0.10->matplotlib<4.0.0,>=3.3.1->plot3d) (1.15.0)\n",
            "Requirement already satisfied: pytz>=2017.2 in /usr/local/lib/python3.7/dist-packages (from pandas->plot3d) (2018.9)\n",
            "Installing collected packages: matplotlib, plot3d\n",
            "  Attempting uninstall: matplotlib\n",
            "    Found existing installation: matplotlib 3.2.2\n",
            "    Uninstalling matplotlib-3.2.2:\n",
            "      Successfully uninstalled matplotlib-3.2.2\n",
            "\u001b[31mERROR: pip's dependency resolver does not currently take into account all the packages that are installed. This behaviour is the source of the following dependency conflicts.\n",
            "albumentations 0.1.12 requires imgaug<0.2.7,>=0.2.5, but you have imgaug 0.2.9 which is incompatible.\u001b[0m\n",
            "Successfully installed matplotlib-3.4.3 plot3d-1.3.8\n"
          ]
        },
        {
          "output_type": "display_data",
          "data": {
            "application/vnd.colab-display-data+json": {
              "pip_warning": {
                "packages": [
                  "matplotlib",
                  "mpl_toolkits"
                ]
              }
            }
          },
          "metadata": {}
        }
      ]
    },
    {
      "cell_type": "markdown",
      "metadata": {
        "id": "B-vKjUSlhUU4"
      },
      "source": [
        "# Reading and Writing a mesh file \n",
        "In simple words, a mesh is a collection of boxes arranged to form a shape. In this example we will explore reading a mesh in ASCII and saving it into a binary format. \n",
        "\n",
        "\n"
      ]
    },
    {
      "cell_type": "markdown",
      "metadata": {
        "id": "eMe93feDJYKP"
      },
      "source": [
        "## Step 1: Load the functions from the library"
      ]
    },
    {
      "cell_type": "code",
      "metadata": {
        "id": "vhNhnlrylnWj"
      },
      "source": [
        "from plot3d import read_plot3D, write_plot3D,Block"
      ],
      "execution_count": 1,
      "outputs": []
    },
    {
      "cell_type": "markdown",
      "metadata": {
        "id": "UHBGBqcqDBhU"
      },
      "source": [
        "## Step 2: Download and read the mesh file\n",
        "The code below reads the plot3D into a variable called blocks. \"blocks\" is a variable representing an array of plot3D blocks. You can think of a block as a 6 sided cube but inside the cube you have multiple smaller cubes. Cubes can be stretched and wrapped such that two ends are connected. This is called an o-mesh. We will plot this in a later step. "
      ]
    },
    {
      "cell_type": "code",
      "metadata": {
        "colab": {
          "base_uri": "https://localhost:8080/"
        },
        "id": "iUHGJHOgJcZV",
        "outputId": "9c370711-5ccb-4c00-82ea-7a98122b9d4a"
      },
      "source": [
        "!wget https://nasa-public-data.s3.amazonaws.com/plot3d_utilities/PahtCascade-ASCII.xyz"
      ],
      "execution_count": 1,
      "outputs": [
        {
          "output_type": "stream",
          "name": "stdout",
          "text": [
            "--2021-09-25 04:11:09--  https://nasa-public-data.s3.amazonaws.com/plot3d_utilities/PahtCascade-ASCII.xyz\n",
            "Resolving nasa-public-data.s3.amazonaws.com (nasa-public-data.s3.amazonaws.com)... 52.217.74.156\n",
            "Connecting to nasa-public-data.s3.amazonaws.com (nasa-public-data.s3.amazonaws.com)|52.217.74.156|:443... connected.\n",
            "HTTP request sent, awaiting response... 200 OK\n",
            "Length: 82072023 (78M) [application/x-www-form-urlencoded]\n",
            "Saving to: ‘PahtCascade-ASCII.xyz’\n",
            "\n",
            "PahtCascade-ASCII.x 100%[===================>]  78.27M  34.0MB/s    in 2.3s    \n",
            "\n",
            "2021-09-25 04:11:11 (34.0 MB/s) - ‘PahtCascade-ASCII.xyz’ saved [82072023/82072023]\n",
            "\n"
          ]
        }
      ]
    },
    {
      "cell_type": "code",
      "metadata": {
        "id": "xKRvNqoTKGF-"
      },
      "source": [
        "blocks = read_plot3D('PahtCascade-ASCII.xyz',binary=False)\\"
      ],
      "execution_count": 2,
      "outputs": []
    },
    {
      "cell_type": "markdown",
      "metadata": {
        "id": "isJzWIwLR2E5"
      },
      "source": [
        "### Plotting the Mesh\n",
        "The function below shows how we can plot an outline of the mesh "
      ]
    },
    {
      "cell_type": "code",
      "metadata": {
        "id": "c_-Wci8mKLSl"
      },
      "source": [
        "import matplotlib.pyplot as plt\n",
        "from mpl_toolkits.mplot3d import axes3d\n",
        "import numpy as np \n",
        "\n",
        "def plot_block_outline(block:Block,ax:axes3d):\n",
        "  IMAX,JMAX,KMAX = block.X.shape\n",
        "  X = block.X \n",
        "  Y = block.Y\n",
        "  Z = block.Z \n",
        "\n",
        "  for i in [0,IMAX-1]:    # Plots curves at constant I bounds \n",
        "    for j in [0,JMAX-1]:\n",
        "      x = X[i,j,:]\n",
        "      y = Y[i,j,:]\n",
        "      z = Z[i,j,:]\n",
        "      ax.plot3D(x,y,z)\n",
        "  for j in [0,JMAX-1]:    # Plots curves at constant I bounds \n",
        "      for k in [0,KMAX-1]:\n",
        "        x = X[:,j,k]\n",
        "        y = Y[:,j,k]\n",
        "        z = Z[:,j,k]\n",
        "        ax.plot3D(x,y,z)\n",
        "  for i in [0,JMAX-1]:    # Plots curves at constant I bounds \n",
        "      for k in [0,KMAX-1]:\n",
        "        x = X[i,:,k]\n",
        "        y = Y[i,:,k]\n",
        "        z = Z[i,:,k]\n",
        "        ax.plot3D(x,y,z)\n"
      ],
      "execution_count": 3,
      "outputs": []
    },
    {
      "cell_type": "markdown",
      "metadata": {
        "id": "OnoY_iMNR-Ni"
      },
      "source": [
        "Try playing with this code to see if you can plot one block at a time. Also try changing the rotation "
      ]
    },
    {
      "cell_type": "code",
      "metadata": {
        "colab": {
          "base_uri": "https://localhost:8080/",
          "height": 256
        },
        "id": "HJwWA5U1Ld73",
        "outputId": "b07c2cb2-6870-43f9-f46c-d776079ed3d0"
      },
      "source": [
        "fig = plt.figure()\n",
        "ax = fig.add_subplot(111, projection='3d')\n",
        "plot_block_outline(blocks[0],ax)\n",
        "plot_block_outline(blocks[1],ax)\n",
        "ax.view_init(30,45)"
      ],
      "execution_count": 5,
      "outputs": [
        {
          "output_type": "display_data",
          "data": {
            "image/png": "[encoded data removed]",
            "text/plain": [
              "<Figure size 432x288 with 1 Axes>"
            ]
          },
          "metadata": {
            "needs_background": "light"
          }
        }
      ]
    }
  ]
}