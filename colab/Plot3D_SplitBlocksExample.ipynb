{
  "nbformat": 4,
  "nbformat_minor": 0,
  "metadata": {
    "colab": {
      "name": "Plot3D_SplitBlocksExample.ipynb",
      "provenance": [],
      "collapsed_sections": [],
      "toc_visible": true
    },
    "kernelspec": {
      "name": "python3",
      "display_name": "Python 3"
    },
    "language_info": {
      "name": "python"
    }
  },
  "cells": [
    {
      "cell_type": "markdown",
      "metadata": {
        "id": "54AvU5poWzlV"
      },
      "source": [
        "# Plot3D Python Tutorial\n",
        "In this tutorial you will learn about the Plot3D NASA Standard and how to use NASA's Plot3D python library to read, write, find connectivity, split blocks, and find periodicity.\n",
        "\n",
        "## About Plot3D\n",
        "Plot3D is a standard for defining a simple structured grid. This standard was developed in the 1980's [User Manual](https://www.google.com/url?sa=t&rct=j&q=&esrc=s&source=web&cd=&cad=rja&uact=8&ved=2ahUKEwiLm_2Q8JjzAhUCB50JHTfFCM4QFnoECAMQAQ&url=https%3A%2F%2Fwww.grc.nasa.gov%2Fwww%2Fwinddocs%2Ftowne%2Fplotc%2Fplotc_p3d.html&usg=AOvVaw0iKPGjnhjiQA9AFZcFhkEE) \n",
        "\n",
        "To understand the plot3D standard, we must first start with the definition of an array. The figure below shows a box with 6 faces and 8 verticies represented by black dots. Now if you were to discretize a geometry into many of these boxes all connected to each other. You would have many x,y,z points. To organize things we arrange all this points into an array of x's, y'z, z's and we label them as capital X, Y, Z. \n",
        "\n",
        "![Array](https://raw.githubusercontent.com/nasa/Plot3D_utilities/main/colab/images/array_definition.png)\n",
        "\n",
        "So what does this mean? how is this helpful. It depends on how to arrange the array. If you have a single dimensional array of x like x<sub>1</sub>,x<sub>2</sub>,x<sub>3</sub>, ..., x<sub>n</sub>. This isn't particularly useful because it's hard to split it in to faces - just try it with the simple box above. So what we do instead is represent x as a 3-dimensional array instead of a single dimension. For example x[0,0,0] or x<sub>0,0,0</sub> = some value. \n",
        "The image below shows how we arrange the x values of each of the vertices. \n",
        "\n",
        "\n",
        "![Array](https://raw.githubusercontent.com/nasa/Plot3D_utilities/main/colab/images/array_definition2.png)\n",
        "\n",
        "With this new arrangement of x into a 3-dimensional array, x[i,j,k]. We can easily extract a face. For example the front face is defined by x[0,0,0] x[1,0,0], x[0,1,0], x[1,1,0]. Do you notice anything interesting from this array? The third index \"k\" is 0. **To define a face you simply set either i, j, or k to be a constant value.** For outer faces you would use KMIN or KMAX. Depending on the programming language the indicies may start at 1 or 0. In python we start at 0 and end at n-1. [More info on Python Arrays](https://www.w3schools.com/python/python_arrays.asp)\n",
        "\n",
        "\n",
        "\n"
      ]
    },
    {
      "cell_type": "markdown",
      "metadata": {
        "id": "6FifJWibmCWW"
      },
      "source": [
        "# Environment Setup\n",
        "This step is relatively short. Run the code below to install plot3d "
      ]
    },
    {
      "cell_type": "code",
      "metadata": {
        "colab": {
          "base_uri": "https://localhost:8080/"
        },
        "id": "nIp8GfFAlqeu",
        "outputId": "c8849068-4d62-4952-8a78-1033fd6617d3"
      },
      "source": [
        "!pip install plot3d"
      ],
      "execution_count": 10,
      "outputs": [
        {
          "output_type": "stream",
          "name": "stdout",
          "text": [
            "Requirement already satisfied: plot3d in /usr/local/lib/python3.7/dist-packages (1.3.8)\n",
            "Requirement already satisfied: psutil in /usr/local/lib/python3.7/dist-packages (from plot3d) (5.4.8)\n",
            "Requirement already satisfied: numpy in /usr/local/lib/python3.7/dist-packages (from plot3d) (1.19.5)\n",
            "Requirement already satisfied: pandas in /usr/local/lib/python3.7/dist-packages (from plot3d) (1.1.5)\n",
            "Requirement already satisfied: tqdm in /usr/local/lib/python3.7/dist-packages (from plot3d) (4.62.3)\n",
            "Requirement already satisfied: matplotlib<4.0.0,>=3.3.1 in /usr/local/lib/python3.7/dist-packages (from plot3d) (3.4.3)\n",
            "Requirement already satisfied: python-dateutil>=2.7 in /usr/local/lib/python3.7/dist-packages (from matplotlib<4.0.0,>=3.3.1->plot3d) (2.8.2)\n",
            "Requirement already satisfied: cycler>=0.10 in /usr/local/lib/python3.7/dist-packages (from matplotlib<4.0.0,>=3.3.1->plot3d) (0.10.0)\n",
            "Requirement already satisfied: pillow>=6.2.0 in /usr/local/lib/python3.7/dist-packages (from matplotlib<4.0.0,>=3.3.1->plot3d) (7.1.2)\n",
            "Requirement already satisfied: pyparsing>=2.2.1 in /usr/local/lib/python3.7/dist-packages (from matplotlib<4.0.0,>=3.3.1->plot3d) (2.4.7)\n",
            "Requirement already satisfied: kiwisolver>=1.0.1 in /usr/local/lib/python3.7/dist-packages (from matplotlib<4.0.0,>=3.3.1->plot3d) (1.3.2)\n",
            "Requirement already satisfied: six in /usr/local/lib/python3.7/dist-packages (from cycler>=0.10->matplotlib<4.0.0,>=3.3.1->plot3d) (1.15.0)\n",
            "Requirement already satisfied: pytz>=2017.2 in /usr/local/lib/python3.7/dist-packages (from pandas->plot3d) (2018.9)\n",
            "\u001b[31mERROR: Could not find a version that satisfies the requirement pprint (from versions: none)\u001b[0m\n",
            "\u001b[31mERROR: No matching distribution found for pprint\u001b[0m\n"
          ]
        }
      ]
    },
    {
      "cell_type": "markdown",
      "metadata": {
        "id": "B-vKjUSlhUU4"
      },
      "source": [
        "# Reading and Writing a mesh file \n",
        "In simple words, a mesh is a collection of boxes arranged to form a shape. In this example we will explore reading a mesh in ASCII and saving it into a binary format. \n",
        "\n",
        "\n"
      ]
    },
    {
      "cell_type": "markdown",
      "metadata": {
        "id": "eMe93feDJYKP"
      },
      "source": [
        "## Step 1: Load the functions from the library"
      ]
    },
    {
      "cell_type": "code",
      "metadata": {
        "id": "vhNhnlrylnWj"
      },
      "source": [
        "from plot3d import read_plot3D, write_plot3D,Block\n",
        "import pickle\n",
        "import pprint"
      ],
      "execution_count": 11,
      "outputs": []
    },
    {
      "cell_type": "markdown",
      "metadata": {
        "id": "UHBGBqcqDBhU"
      },
      "source": [
        "## Step 2: Download and read the mesh file\n",
        "The code below reads the plot3D into a variable called blocks. \"blocks\" is a variable representing an array of plot3D blocks. You can think of a block as a 6 sided cube but inside the cube you have multiple smaller cubes. Cubes can be stretched and wrapped such that two ends are connected. This is called an o-mesh. We will plot this in a later step. "
      ]
    },
    {
      "cell_type": "code",
      "metadata": {
        "colab": {
          "base_uri": "https://localhost:8080/"
        },
        "id": "iUHGJHOgJcZV",
        "outputId": "c6c87e2f-3906-49ed-cfb8-7590b96fd0ea"
      },
      "source": [
        "!wget https://nasa-public-data.s3.amazonaws.com/plot3d_utilities/PahtCascade-ASCII.xyz"
      ],
      "execution_count": 2,
      "outputs": [
        {
          "output_type": "stream",
          "name": "stdout",
          "text": [
            "--2021-09-29 14:56:39--  https://nasa-public-data.s3.amazonaws.com/plot3d_utilities/PahtCascade-ASCII.xyz\n",
            "Resolving nasa-public-data.s3.amazonaws.com (nasa-public-data.s3.amazonaws.com)... 52.217.76.220\n",
            "Connecting to nasa-public-data.s3.amazonaws.com (nasa-public-data.s3.amazonaws.com)|52.217.76.220|:443... connected.\n",
            "HTTP request sent, awaiting response... 200 OK\n",
            "Length: 82072023 (78M) [application/x-www-form-urlencoded]\n",
            "Saving to: ‘PahtCascade-ASCII.xyz’\n",
            "\n",
            "PahtCascade-ASCII.x 100%[===================>]  78.27M  71.0MB/s    in 1.1s    \n",
            "\n",
            "2021-09-29 14:56:41 (71.0 MB/s) - ‘PahtCascade-ASCII.xyz’ saved [82072023/82072023]\n",
            "\n"
          ]
        }
      ]
    },
    {
      "cell_type": "code",
      "metadata": {
        "id": "xKRvNqoTKGF-"
      },
      "source": [
        "blocks = read_plot3D('PahtCascade-ASCII.xyz',binary=False)  # Reading plot3D\n",
        "write_plot3D('PahtCascade-ASCII.xyz',blocks,binary=True)    # Writing plot3D to binary file"
      ],
      "execution_count": 3,
      "outputs": []
    },
    {
      "cell_type": "markdown",
      "metadata": {
        "id": "isJzWIwLR2E5"
      },
      "source": [
        "### Plotting the Mesh\n",
        "The function below shows how we can plot an outline of the mesh "
      ]
    },
    {
      "cell_type": "code",
      "metadata": {
        "id": "c_-Wci8mKLSl"
      },
      "source": [
        "import matplotlib.pyplot as plt\n",
        "from mpl_toolkits.mplot3d import axes3d\n",
        "import numpy as np \n",
        "\n",
        "def plot_block_outline(block:Block,ax:axes3d):\n",
        "  IMAX,JMAX,KMAX = block.X.shape\n",
        "  X = block.X \n",
        "  Y = block.Y\n",
        "  Z = block.Z \n",
        "\n",
        "  for i in [0,IMAX-1]:    # Plots curves at constant I bounds \n",
        "    for j in [0,JMAX-1]:\n",
        "      x = X[i,j,:]\n",
        "      y = Y[i,j,:]\n",
        "      z = Z[i,j,:]\n",
        "      ax.plot3D(x,y,z)\n",
        "  for j in [0,JMAX-1]:    # Plots curves at constant I bounds \n",
        "      for k in [0,KMAX-1]:\n",
        "        x = X[:,j,k]\n",
        "        y = Y[:,j,k]\n",
        "        z = Z[:,j,k]\n",
        "        ax.plot3D(x,y,z)\n",
        "  for i in [0,JMAX-1]:    # Plots curves at constant I bounds \n",
        "      for k in [0,KMAX-1]:\n",
        "        x = X[i,:,k]\n",
        "        y = Y[i,:,k]\n",
        "        z = Z[i,:,k]\n",
        "        ax.plot3D(x,y,z)\n"
      ],
      "execution_count": 4,
      "outputs": []
    },
    {
      "cell_type": "markdown",
      "metadata": {
        "id": "OnoY_iMNR-Ni"
      },
      "source": [
        "Try playing with this code to see if you can plot one block at a time. Also try changing the rotation "
      ]
    },
    {
      "cell_type": "code",
      "metadata": {
        "colab": {
          "base_uri": "https://localhost:8080/",
          "height": 273
        },
        "id": "HJwWA5U1Ld73",
        "outputId": "0d42524d-fa21-48ca-a201-697bd61fcb46"
      },
      "source": [
        "fig = plt.figure()\n",
        "ax = fig.add_subplot(111, projection='3d')\n",
        "plot_block_outline(blocks[0],ax)\n",
        "plot_block_outline(blocks[1],ax)\n",
        "ax.view_init(30,45)\n",
        "\n",
        "print(\"we have \" + str(len(blocks)) + \" blocks\")"
      ],
      "execution_count": 7,
      "outputs": [
        {
          "output_type": "stream",
          "name": "stdout",
          "text": [
            "we have 2 blocks\n"
          ]
        },
        {
          "output_type": "display_data",
          "data": {
            "image/png": "[encoded data removed]",
            "text/plain": [
              "<Figure size 432x288 with 1 Axes>"
            ]
          },
          "metadata": {
            "needs_background": "light"
          }
        }
      ]
    },
    {
      "cell_type": "markdown",
      "metadata": {
        "id": "hxEZl83CITUM"
      },
      "source": [
        "# Finding Connectivity\n",
        "Connectivity tells the solver how information should transfer between Faces. For example, lets look at the example above. We have 2 blocks `blocks[0]` and `blocks[1]` These are connected via the pressure side of the blade. One of the features of the plot3d library is the ability to find connected faces between blocks as well as all the connected points. "
      ]
    },
    {
      "cell_type": "markdown",
      "metadata": {
        "id": "9brx1wkeC7t-"
      },
      "source": [
        "## Finding Connected Faces"
      ]
    },
    {
      "cell_type": "markdown",
      "metadata": {
        "id": "ZGd5ca-xD5s3"
      },
      "source": [
        "The function `connectivity` takes in a parameter for blocks. The output is a list of face matches between blocks along with the outer faces which are faces that do not have a connection to another block. "
      ]
    },
    {
      "cell_type": "code",
      "metadata": {
        "colab": {
          "base_uri": "https://localhost:8080/"
        },
        "id": "yUYFLegDC-F4",
        "outputId": "e151b189-52e6-439e-b34d-043c76785bd8"
      },
      "source": [
        "from plot3d import connectivity\n",
        "face_matches, outer_faces_formatted = connectivity(blocks)  # Running this code will take a while depending on how fast google colab is on a given day.\n",
        "# Saving the results\n",
        "with open('connectivity.pickle','wb') as f:\n",
        "  pickle.dump({\"face_matches\":face_matches, \"outer_faces\":outer_faces_formatted},f)"
      ],
      "execution_count": 12,
      "outputs": [
        {
          "output_type": "stream",
          "name": "stderr",
          "text": [
            "Checking connections block 0 with 1: 100%|██████████| 1/1 [07:58<00:00, 478.99s/it]\n"
          ]
        }
      ]
    },
    {
      "cell_type": "markdown",
      "metadata": {
        "id": "EE_9l_yfERCv"
      },
      "source": [
        "`face_matches` contains matching face diagonals. The simpliest way to represent a face match is to use the following standard:\n",
        "\n",
        "### Representing connected faces \n",
        "Block Index1 Face lower corner represented as [IMIN,JMIN,KMIN] Face Upper corner represented as [IMAX,JMAX,KMAX]. This matches Block Index2 Face lower corner represented as [IMIN,JMIN,KMIN] Face Upper corner represented as [IMAX,JMAX,KMAX]. \n",
        "\n",
        "`face_matches[0]['match']` is a dataframe of connected points. This is available to you in case you want to use it. \n",
        "\n",
        "You can see that below when we print out the dictionary "
      ]
    },
    {
      "cell_type": "code",
      "metadata": {
        "colab": {
          "base_uri": "https://localhost:8080/"
        },
        "id": "-CRWsKtCF8za",
        "outputId": "0354d47e-9f1f-4f2f-8b40-dd77f3f7c507"
      },
      "source": [
        "with open('connectivity.pickle','rb') as f:\n",
        "  data = pickle.load(f)\n",
        "  face_matches = data['face_matches']\n",
        "  outer_faces = data['outer_faces']\n",
        "\n",
        "face_matches\n",
        "pp = pprint.PrettyPrinter(indent=4)\n",
        "pp.pprint(face_matches[0])"
      ],
      "execution_count": 28,
      "outputs": [
        {
          "output_type": "stream",
          "name": "stdout",
          "text": [
            "{   'block1': {   'IMAX': 256,\n",
            "                  'IMIN': 128,\n",
            "                  'JMAX': 100,\n",
            "                  'JMIN': 0,\n",
            "                  'KMAX': 32,\n",
            "                  'KMIN': 32,\n",
            "                  'block_index': 0},\n",
            "    'block2': {   'IMAX': 168,\n",
            "                  'IMIN': 40,\n",
            "                  'JMAX': 100,\n",
            "                  'JMIN': 0,\n",
            "                  'KMAX': 0,\n",
            "                  'KMIN': 0,\n",
            "                  'block_index': 1},\n",
            "    'match':         i1   j1  k1   i2   j2 k2\n",
            "101    128    0  32   40    0  0\n",
            "102    128    1  32   40    1  0\n",
            "103    128    2  32   40    2  0\n",
            "104    128    3  32   40    3  0\n",
            "105    128    4  32   40    4  0\n",
            "...    ...  ...  ..  ...  ... ..\n",
            "13125  256   96  32  168   96  0\n",
            "13126  256   97  32  168   97  0\n",
            "13127  256   98  32  168   98  0\n",
            "13128  256   99  32  168   99  0\n",
            "13129  256  100  32  168  100  0\n",
            "\n",
            "[13029 rows x 6 columns]}\n"
          ]
        }
      ]
    },
    {
      "cell_type": "markdown",
      "metadata": {
        "id": "9_POCx4eL6vY"
      },
      "source": [
        "## Plotting Connected Faces"
      ]
    },
    {
      "cell_type": "code",
      "metadata": {
        "id": "zwpjHnl3MB8u"
      },
      "source": [
        "from matplotlib import cm\n",
        "import numpy as np \n",
        "\n",
        "def select_multi_dimensional(T:np.ndarray,dim1:tuple,dim2:tuple, dim3:tuple):\n",
        "    \"\"\"Takes a block (T) and selects X,Y,Z from the block given a face's dimensions\n",
        "        theres really no good way to do this in python \n",
        "    Args:\n",
        "        T (np.ndarray): arbitrary array so say a full matrix containing X\n",
        "        dim1 (tuple): 20,50 this selects X in the i direction from i=20 to 50\n",
        "        dim2 (tuple): 40,60 this selects X in the j direction from j=40 to 60\n",
        "        dim3 (tuple): 10,20 this selects X in the k direction from k=10 to 20\n",
        "\n",
        "    Returns:\n",
        "        np.ndarray: returns X or Y or Z given some range of I,J,K\n",
        "    \"\"\"\n",
        "    if dim1[0] == dim1[1]:\n",
        "        return T[ dim1[0], dim2[0]:dim2[1]+1, dim3[0]:dim3[1]+1 ]\n",
        "    if dim2[0] == dim2[1]:\n",
        "        return T[ dim1[0]:dim1[1]+1, dim2[0], dim3[0]:dim3[1]+1 ]\n",
        "    if dim3[0] == dim3[1]:\n",
        "        return T[ dim1[0]:dim1[1]+1, dim2[0]:dim2[1]+1, dim3[0] ]\n",
        "    \n",
        "    return T[dim1[0]:dim1[1], dim2[0]:dim2[1], dim3[0]:dim3[1]]\n",
        "\n",
        "def plot_face(face_matches,blocks):\n",
        "  for fm in face_matches:\n",
        "    block_index1 = fm['block1']['block_index']\n",
        "    I1 = [fm['block1']['IMIN'],fm['block1']['IMAX']] # [ IMIN IMAX ]\n",
        "    J1 = [fm['block1']['JMIN'],fm['block1']['JMAX']] # [ JMIN JMAX ]\n",
        "    K1 = [fm['block1']['KMIN'],fm['block1']['KMAX']] # [ KMIN KMAX ]\n",
        "\n",
        "    block_index2 = fm['block2']['block_index']\n",
        "    I2 = [fm['block2']['IMIN'],fm['block2']['IMAX']] # [ IMIN IMAX ]\n",
        "    J2 = [fm['block2']['JMIN'],fm['block2']['JMAX']] # [ JMIN JMAX ]\n",
        "    K2 = [fm['block2']['KMIN'],fm['block2']['KMAX']] # [ KMIN KMAX ]\n",
        "\n",
        "    X1 = select_multi_dimensional(blocks[block_index1].X, (I1[0],I1[1]), (J1[0],J1[1]), (K1[0],K1[1]))\n",
        "    Y1 = select_multi_dimensional(blocks[block_index1].Y, (I1[0],I1[1]), (J1[0],J1[1]), (K1[0],K1[1]))\n",
        "    Z1 = select_multi_dimensional(blocks[block_index1].Z, (I1[0],I1[1]), (J1[0],J1[1]), (K1[0],K1[1]))\n",
        "\n",
        "    X2 = select_multi_dimensional(blocks[block_index2].X, (I2[0],I2[1]), (J2[0],J2[1]), (K2[0],K2[1]))\n",
        "    Y2 = select_multi_dimensional(blocks[block_index2].Y, (I2[0],I2[1]), (J2[0],J2[1]), (K2[0],K2[1]))\n",
        "    Z2 = select_multi_dimensional(blocks[block_index2].Z, (I2[0],I2[1]), (J2[0],J2[1]), (K2[0],K2[1]))\n",
        "\n",
        "    # return X1\n",
        "    surf1 = ax.plot_surface(X1, Y1, Z1, cmap=cm.coolwarm, linewidth=0, antialiased=True)\n",
        "    surf2 = ax.plot_surface(X2, Y2, Z2, cmap=cm.coolwarm, linewidth=0, antialiased=True)\n"
      ],
      "execution_count": 113,
      "outputs": []
    },
    {
      "cell_type": "code",
      "metadata": {
        "colab": {
          "base_uri": "https://localhost:8080/"
        },
        "id": "9N8q8QS4bgoH",
        "outputId": "23ab234b-f3bf-474f-fe50-e61e31d67a90"
      },
      "source": [
        "X1 = plot_face(face_matches,blocks)\n",
        "X1.shape"
      ],
      "execution_count": 111,
      "outputs": [
        {
          "output_type": "execute_result",
          "data": {
            "text/plain": [
              "(129, 101)"
            ]
          },
          "metadata": {},
          "execution_count": 111
        }
      ]
    },
    {
      "cell_type": "code",
      "metadata": {
        "colab": {
          "base_uri": "https://localhost:8080/",
          "height": 256
        },
        "id": "0l2xXnzsMFsh",
        "outputId": "fe0ba49b-1261-434a-b92f-c016b081d2d0"
      },
      "source": [
        "fig = plt.figure()\n",
        "ax = fig.add_subplot(111, projection='3d')\n",
        "plot_block_outline(blocks[0],ax)\n",
        "plot_block_outline(blocks[1],ax)\n",
        "plot_face(face_matches,blocks)\n",
        "ax.view_init(30,45)"
      ],
      "execution_count": 115,
      "outputs": [
        {
          "output_type": "display_data",
          "data": {
            "image/png": "[encoded data removed]",
            "text/plain": [
              "<Figure size 432x288 with 1 Axes>"
            ]
          },
          "metadata": {
            "needs_background": "light"
          }
        }
      ]
    },
    {
      "cell_type": "markdown",
      "metadata": {
        "id": "WSV1umBtIKpX"
      },
      "source": [
        "## Periodic Faces\n",
        "Perodicity is a subset of connectivity. It relates to how Faces of blocks are connected when rotated by an angle. You can think of an apple pie and slice it up into equal slices. Say you put in a filling into one of those slices. The filling will splurge over to the other slices. This is kind of what perodicity means. Data goes into one slice, it is transfered into other slices. You can also think of the game portal.\n",
        "\n",
        "In turbomachinery, simulating an entire turbine wheel requires many points, it is easier to break it into pie slices and apply periodicity/connectivity to the sides. "
      ]
    }
  ]
}